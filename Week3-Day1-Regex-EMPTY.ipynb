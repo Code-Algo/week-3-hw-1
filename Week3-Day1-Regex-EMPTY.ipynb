{
 "cells": [
  {
   "cell_type": "markdown",
   "metadata": {},
   "source": [
    "# Regular Expressions"
   ]
  },
  {
   "cell_type": "markdown",
   "metadata": {},
   "source": [
    "# Tasks today:\n",
    "1) <b>Importing</b> <br>\n",
    "2) <b>Using Regular Expressions</b> <br>\n",
    " &nbsp;&nbsp;&nbsp;&nbsp; a) re.compile() <br>\n",
    " &nbsp;&nbsp;&nbsp;&nbsp; b) re.match() <br>\n",
    " &nbsp;&nbsp;&nbsp;&nbsp; c) re.findall() <br>\n",
    " &nbsp;&nbsp;&nbsp;&nbsp; d) re.search() <br>\n",
    "3) <b>Sets</b> <br>\n",
    " &nbsp;&nbsp;&nbsp;&nbsp; a) Integer Ranges <br>\n",
    " &nbsp;&nbsp;&nbsp;&nbsp; b) Character Ranges <br>\n",
    "4) <b>Counting Occurences</b> <br>\n",
    " &nbsp;&nbsp;&nbsp;&nbsp; a) {x} <br>\n",
    " &nbsp;&nbsp;&nbsp;&nbsp; b) {, x} <br>\n",
    " &nbsp;&nbsp;&nbsp;&nbsp; c) {?} <br>\n",
    " &nbsp;&nbsp;&nbsp;&nbsp; d) {*} <br>\n",
    " &nbsp;&nbsp;&nbsp;&nbsp; e) {+} <br>\n",
    "5) <b>In-Class Exercise #1</b> <br>\n",
    "6) <b>Escaping Characters</b> <br>\n",
    "7) <b>Grouping</b> <br>\n",
    "8) <b>In-Class Exercise #2</b> <br>\n",
    "9) <b>Opening a File</b> <br>\n",
    " &nbsp;&nbsp;&nbsp;&nbsp; a) open() <br>\n",
    " &nbsp;&nbsp;&nbsp;&nbsp; b) with open() <br>\n",
    " &nbsp;&nbsp;&nbsp;&nbsp; c) re.match() <br>\n",
    " &nbsp;&nbsp;&nbsp;&nbsp; d) re.search() <br>\n",
    " &nbsp;&nbsp;&nbsp;&nbsp; e) Store the String in a Variable <br>\n",
    "10) <b>Regex Project</b> <br>"
   ]
  },
  {
   "cell_type": "code",
   "execution_count": null,
   "metadata": {},
   "outputs": [],
   "source": [
    "HAYHAYHAYHAYLHAYEHAYDHAYEHAYNHAYEHAYHAYEHAYHAYLHAYDHAYEHAYEHAYNHAYNHAYEHAYHAYHAYNHAYHAYHAYDHAYHAYHAYHAYHAYLHAYEHAYNHAYHAYHAYEHAYDHAYLHAYHAYEHAYHAYDHAYNHAYEHAYHAYHAYLHAYEHAYHAYHAYHAYHAYNHAYDHAYHAYHAYHAYLHAYHAYHAYHAYHAYHAYHAYLHAYEHAYDHAYEHAYNHAYEHAYHAYEHAYHAYLHAYDHAYEHAYEHAYNHAYDHAYNHAYEHAYHAYHAYLHAYEHAYHAYHAYHAYHAYNHAYDHAYEHAYEHAYLHAYHAYHAYHAYHAYHAYLHAYEHAYDHAYEHAYNHAYEHAYHAYEHAYHAYLHAYDHAYEHAYEHAYNHAYNHAYEHAYHAYHAYNHAYHAYHAYDHAYHAYHAYHAYHAYLHAYEHAYNHAYHAYHAYEHAYDHAYLHAYHAYEHAYHAYDHAYNHAYEHAYHAYHAYLHAYEHAYHAYHAYHAYHAYNHAYHAYHAYEHAYDHAYLHAYHAYEHAYHAYHAYNHAYHAYEHAYHAYHAYEHAYHAYHAYHAYHAYDHAYLHAYHAYHAYHAYHAYENHAYHAYHAYEHAYDHAYLHAYHAYEHAYHAYHAYHAYHAYHAYHAYNHAYEHAYEHAYHAYHAYHAYDHAYEHAYHAYHAYHAYHAYNHAYDHAYHAYHAYHAYLHAYHAYHAYHAYHAYHAYHAYLHAYEHAYDHAYEHAYNHAYEHAYHAYEHAYHAYLHAYDHAYEHAYEHAYNHAYDHAYNHAYEHAYHAYHAYLHAYEHAYHAYHAYHAYHAYNHAYDHAYEHAYEHAYLHAYHAYHAYHAYHAYHAYLHAYEHAYDHAYEHAYNHAYEHAYHAYEHAYHAYLHAYDHAYEHAYEHAYNHAYNHAYEHAYHAYHAYNHAYHAYHAYDHAYHAYHAYHAYHAYLHAYEHAYNHAYHAYHAYEHAYDHAYLHAYHAYEHAYHAYDHAYNHAYEHAYHAYHAYLHAYEHAYHAYHAYHAYHAYNHAYHAYHAYEHAYDHAYLHAYHAYEHAYHAYNHAYHAYHAYEHAYDHAYLHAYHAYEHAYHAYHAYEHAYHAYLHAYDHAYEHAYEHAYNHAYNHAYEHAYHAYHAYNHAYHAYHAYDHAYHAYHAYHAYHAYLHAYEHAYNHAYHAYHAYEHAYDHAYLHAYHAYEHAYHAYDHAYNHAYEHAYHAYHAYLHAYEHAYHAYHAYHAYHAYNHAYEHAYEHAYHAYHAYHAYDHAYEHAYHAYHAYHAYHAYNHAYDHAYHAYHAYHAYLHAYHAYHAYHAYHAYHAYHAYLHAYEHAYDHAYEHAYNHAYEHAYHAYEHAYHAYLHAYDHAYEHAYEHAYNHAY"
   ]
  },
  {
   "cell_type": "markdown",
   "metadata": {},
   "source": [
    "### Importing <br>\n",
    "<p>Regular Expressions are universal throughout most programming languages... They are generally imported through the module 're'.</p>"
   ]
  },
  {
   "cell_type": "code",
   "execution_count": 1,
   "metadata": {},
   "outputs": [],
   "source": [
    "import re\n"
   ]
  },
  {
   "cell_type": "markdown",
   "metadata": {},
   "source": [
    "### Using Regular Expressions <br>\n",
    "<p>Regular expressions give us the ability to search for patterns within text, strings, files, etc. They serve several uses, such as; security measures, searching, filtering, pattern recognition, and more...</p>"
   ]
  },
  {
   "cell_type": "markdown",
   "metadata": {},
   "source": [
    "##### RegEx Cheatsheet"
   ]
  },
  {
   "cell_type": "raw",
   "metadata": {},
   "source": [
    "########################\n",
    "# DO NOT RUN THIS CELL #\n",
    "########################\n",
    "\n",
    "a, X, 9, < -- ordinary characters just match themselves exactly.\n",
    ". (a period) -- matches any single character except newline '\\n'\n",
    "\\w -- matches a \"word\" character: a letter or digit or underbar [a-zA-Z0-9_].\n",
    "\\W -- matches any non-word character.\n",
    "\\b -- matches word boundary (in between a word character and a non word character)\n",
    "\\s -- matches a single whitespace character -- space, newline, return, tab\n",
    "\\S -- matches any non-whitespace character.\n",
    "\\t, \\n, \\r -- tab, newline, return\n",
    "\\d -- matches any numeric digit [0-9]\n",
    "\\D matches any non-numeric character.\n",
    "^ -- matches the beginning of the string, or specify omition of certain characters\n",
    "$ -- matches the end of the string\n",
    "\\ -- escapes special character.\n",
    "(x|y|z) matches exactly one of x, y or z.\n",
    "(x) in general is a remembered group. We can get the value of what matched by using the groups() method of the object returned by re.search.\n",
    "x? matches an optional x character (in other words, it matches an x zero or one times).\n",
    "x* matches x zero or more times.\n",
    "x+ matches x one or more times.\n",
    "x{m,n} matches an x character at least m times, but not more than n times.\n",
    "?: matches an expression but do not capture it. Non capturing group.\n",
    "?= matches a suffix but exclude it from capture. Positive lookahead.\n",
    "a(?=b) will match the \"a\" in \"ab\", but not the \"a\" in \"ac\"\n",
    "In other words, a(?=b) matches the \"a\" which is followed by the string 'b', without consuming what follows the a.\n",
    "?! matches if suffix is absent. Negative look ahead.\n",
    "a(?!b) will match the \"a\" in \"ac\", but not the \"a\" in \"ab\"\n",
    "?<= positive look behind\n",
    "[] matches for groupings of consecutive characters\n",
    "?<! negative look behind\n",
    "\n",
    "########################\n",
    "# DO NOT RUN THIS CELL #\n",
    "########################"
   ]
  },
  {
   "cell_type": "markdown",
   "metadata": {},
   "source": [
    "##### re.compile()"
   ]
  },
  {
   "cell_type": "code",
   "execution_count": 2,
   "metadata": {},
   "outputs": [],
   "source": [
    "# using compile, pre determines the string to be used in regular expression methods\n",
    "pattern = re.compile(r'abcd')"
   ]
  },
  {
   "cell_type": "markdown",
   "metadata": {},
   "source": [
    "##### re.match()"
   ]
  },
  {
   "cell_type": "code",
   "execution_count": 9,
   "metadata": {},
   "outputs": [
    {
     "name": "stdout",
     "output_type": "stream",
     "text": [
      "<re.Match object; span=(0, 4), match='abcd'>\n",
      "(0, 4)\n"
     ]
    },
    {
     "data": {
      "text/plain": [
       "'abcd'"
      ]
     },
     "execution_count": 9,
     "metadata": {},
     "output_type": "execute_result"
    }
   ],
   "source": [
    "# it will search the beginning of a string for your pattern\n",
    "data ='abcd123'\n",
    "print(match)\n",
    "print(match.span())\n",
    "start, stop = match.span()\n",
    "data[start:stop]"
   ]
  },
  {
   "cell_type": "code",
   "execution_count": 10,
   "metadata": {},
   "outputs": [
    {
     "name": "stdout",
     "output_type": "stream",
     "text": [
      "(0, 4)\n"
     ]
    }
   ],
   "source": [
    "match = pattern.match('abcd123 abcd 543 abcd')\n",
    "print(match.span())"
   ]
  },
  {
   "cell_type": "markdown",
   "metadata": {},
   "source": [
    "##### re.findall()"
   ]
  },
  {
   "cell_type": "code",
   "execution_count": 11,
   "metadata": {},
   "outputs": [
    {
     "name": "stdout",
     "output_type": "stream",
     "text": [
      "['abcd', 'abcd', 'abcd']\n"
     ]
    }
   ],
   "source": [
    "# return a list\n",
    "\n",
    "finders = pattern.findall('123abcd abcd123 abcd abcad acb')\n",
    "print(finders)"
   ]
  },
  {
   "cell_type": "markdown",
   "metadata": {},
   "source": [
    "##### re.search()"
   ]
  },
  {
   "cell_type": "code",
   "execution_count": 13,
   "metadata": {},
   "outputs": [
    {
     "name": "stdout",
     "output_type": "stream",
     "text": [
      "<re.Match object; span=(12, 16), match='abcd'>\n",
      "12\n",
      "16\n",
      "(12, 16)\n",
      "abcd\n"
     ]
    }
   ],
   "source": [
    "# will find a single match anywhere in your string\n",
    "random_string = '123 123 234 abcd abc abcd'\n",
    "search = pattern.search(random_string)\n",
    "print(search)\n",
    "print(search.start())\n",
    "print(search.end())\n",
    "print(search.span())\n",
    "print(random_string[search.start():search.end()])"
   ]
  },
  {
   "cell_type": "markdown",
   "metadata": {},
   "source": [
    "### Sets <br>\n",
    "<p>The following cells will allow you to use regular expressions to search for certain values within a range such as numbers 1 through 4.</p>"
   ]
  },
  {
   "cell_type": "markdown",
   "metadata": {},
   "source": [
    "##### [a-z] or [A-Z] - any lowercase/uppercase letters from a to z<br/>[^2] - anything that's not 2"
   ]
  },
  {
   "cell_type": "markdown",
   "metadata": {},
   "source": [
    "##### Integer Ranges"
   ]
  },
  {
   "cell_type": "code",
   "execution_count": 23,
   "metadata": {},
   "outputs": [
    {
     "name": "stdout",
     "output_type": "stream",
     "text": [
      "(0, 2)\n",
      "67\n"
     ]
    }
   ],
   "source": [
    "pattern_int = re.compile(r'[0-7][7-9]')\n",
    "# abny number 0-7 followed by 7-9\n",
    "random_number = pattern_int.search(\"6783\")\n",
    "span = random_number.span()\n",
    "print(span)\n",
    "print(random_number[span[0]])"
   ]
  },
  {
   "cell_type": "code",
   "execution_count": 19,
   "metadata": {},
   "outputs": [
    {
     "name": "stdout",
     "output_type": "stream",
     "text": [
      "['28', '27', '48']\n"
     ]
    }
   ],
   "source": [
    "random_number = pattern_int.findall(\"95028510127480\")\n",
    "print(random_number)"
   ]
  },
  {
   "cell_type": "markdown",
   "metadata": {},
   "source": [
    "##### Character Ranges"
   ]
  },
  {
   "cell_type": "code",
   "execution_count": 24,
   "metadata": {},
   "outputs": [
    {
     "name": "stdout",
     "output_type": "stream",
     "text": [
      "['He', 'Th', 'Mr', 'An', 'So']\n"
     ]
    }
   ],
   "source": [
    "pattern_char = re.compile(r'[A-Z][a-z]')\n",
    "found_count = pattern_char.findall(\"Hello There Mr. AnderSon\")\n",
    "print(found_count)"
   ]
  },
  {
   "cell_type": "markdown",
   "metadata": {},
   "source": [
    "### Counting Occurences"
   ]
  },
  {
   "cell_type": "markdown",
   "metadata": {},
   "source": [
    "##### {x} - something that occurs {num_of_times}"
   ]
  },
  {
   "cell_type": "code",
   "execution_count": 27,
   "metadata": {},
   "outputs": [
    {
     "name": "stdout",
     "output_type": "stream",
     "text": [
      "['An33', 'Nw31']\n"
     ]
    }
   ],
   "source": [
    "char_pattern_count = re.compile(r'[A-Z][a-z][0-3]{2}')\n",
    "found_count = char_pattern_count.findall(\"Hello My25. An33derson Nw31\")\n",
    "print(found_count)"
   ]
  },
  {
   "cell_type": "markdown",
   "metadata": {},
   "source": [
    "##### {x, x} - something that occurs between x and x times"
   ]
  },
  {
   "cell_type": "code",
   "execution_count": 32,
   "metadata": {},
   "outputs": [
    {
     "name": "stdout",
     "output_type": "stream",
     "text": [
      "123 123 234 abcd abc abcd\n"
     ]
    }
   ],
   "source": [
    "random_pattern = re.compile(r'm{1,5}')\n",
    "test_string = \"This is an example of a regular expression trying to find one m, more than one mmm or 5 mmmmms but not 6 mmmmmm\"\n",
    "\n",
    "random_pattern.findall(test_string)\n",
    "print(random_string)"
   ]
  },
  {
   "cell_type": "markdown",
   "metadata": {},
   "source": [
    "##### ? - something that occurs 0 or 1 time"
   ]
  },
  {
   "cell_type": "code",
   "execution_count": 36,
   "metadata": {},
   "outputs": [
    {
     "name": "stdout",
     "output_type": "stream",
     "text": [
      "['M', 'Ms', 'M', 'Ms']\n"
     ]
    }
   ],
   "source": [
    "pattern = re.compile(r'Ms?')\n",
    "my_string = \"Hello there Mr Anderson, how is Ms. Anderson? excuse me MS I mean Msss?\"\n",
    "print(pattern.findall(my_string))            "
   ]
  },
  {
   "cell_type": "markdown",
   "metadata": {},
   "source": [
    "##### * - something that occurs at least 0 times"
   ]
  },
  {
   "cell_type": "code",
   "execution_count": 40,
   "metadata": {},
   "outputs": [
    {
     "name": "stdout",
     "output_type": "stream",
     "text": [
      "['M', 'M', 'M', 'Ms', 'Mssssssss', 'M']\n"
     ]
    }
   ],
   "source": [
    "pattern = re.compile(r'Ms*')\n",
    "my_string = \"MMMY name is Ms. Sith. This is Mssssssss\"\n",
    "print(pattern.findall(my_string))"
   ]
  },
  {
   "cell_type": "markdown",
   "metadata": {},
   "source": [
    "##### + - something that occurs at least once"
   ]
  },
  {
   "cell_type": "code",
   "execution_count": 48,
   "metadata": {},
   "outputs": [
    {
     "name": "stdout",
     "output_type": "stream",
     "text": [
      "['Ms', 'MMMMMMMMsssssssss']\n"
     ]
    }
   ],
   "source": [
    "pattern = re.compile(r'M+s+')\n",
    "my_string = \"My Name is Ms. Smith. this is MMMMMMMMsssssssss\"\n",
    "print(pattern.findall(my_string))"
   ]
  },
  {
   "cell_type": "markdown",
   "metadata": {},
   "source": [
    "##### In-class exercise 1: \n",
    "\n",
    "Use a regular expression to find every number in the given string"
   ]
  },
  {
   "cell_type": "code",
   "execution_count": 60,
   "metadata": {},
   "outputs": [
    {
     "name": "stdout",
     "output_type": "stream",
     "text": [
      "['10909090', '1', '2']\n"
     ]
    }
   ],
   "source": [
    "pattern = re.compile(r'[0-9]+')\n",
    "\n",
    "my_string = \"This string has 10909090 numbers, but it is only 1 string. I hope you solve this 2day.\"\n",
    "print(pattern.findall(my_string))"
   ]
  },
  {
   "cell_type": "code",
   "execution_count": 108,
   "metadata": {},
   "outputs": [
    {
     "name": "stdout",
     "output_type": "stream",
     "text": [
      "['HAYHAYHAYNHAYHAYEHAYHAYHAYEHAYHAYHAYHAYHAYDHAYLHAYHAYHAYHAYHAYE']\n"
     ]
    }
   ],
   "source": [
    "pattern = re.compile(r'[HAY]*N[HAY]*E[HAY]*E[HAY]*D[HAY]*L[HAY]*E[HAY]*')\n",
    "\n",
    "my_string = 'HAYHAYHAYHAYLHAYEHAYDHAYEHAYNHAYEHAYHAYEHAYHAYLHAYDHAYEHAYEHAYNHAYNHAYEHAYHAYHAYNHAYHAYHAYDHAYHAYHAYHAYHAYLHAYEHAYNHAYHAYHAYEHAYDHAYLHAYHAYEHAYHAYDHAYNHAYEHAYHAYHAYLHAYEHAYHAYHAYHAYHAYNHAYDHAYHAYHAYHAYLHAYHAYHAYHAYHAYHAYHAYLHAYEHAYDHAYEHAYNHAYEHAYHAYEHAYHAYLHAYDHAYEHAYEHAYNHAYDHAYNHAYEHAYHAYHAYLHAYEHAYHAYHAYHAYHAYNHAYDHAYEHAYEHAYLHAYHAYHAYHAYHAYHAYLHAYEHAYDHAYEHAYNHAYEHAYHAYEHAYHAYLHAYDHAYEHAYEHAYNHAYNHAYEHAYHAYHAYNHAYHAYHAYDHAYHAYHAYHAYHAYLHAYEHAYNHAYHAYHAYEHAYDHAYLHAYHAYEHAYHAYDHAYNHAYEHAYHAYHAYLHAYEHAYHAYHAYHAYHAYNHAYHAYHAYEHAYDHAYLHAYHAYEHAYHAYHAYNHAYHAYEHAYHAYHAYEHAYHAYHAYHAYHAYDHAYLHAYHAYHAYHAYHAYENHAYHAYHAYEHAYDHAYLHAYHAYEHAYHAYHAYHAYHAYHAYHAYNHAYEHAYEHAYHAYHAYHAYDHAYEHAYHAYHAYHAYHAYNHAYDHAYHAYHAYHAYLHAYHAYHAYHAYHAYHAYHAYLHAYEHAYDHAYEHAYNHAYEHAYHAYEHAYHAYLHAYDHAYEHAYEHAYNHAYDHAYNHAYEHAYHAYHAYLHAYEHAYHAYHAYHAYHAYNHAYDHAYEHAYEHAYLHAYHAYHAYHAYHAYHAYLHAYEHAYDHAYEHAYNHAYEHAYHAYEHAYHAYLHAYDHAYEHAYEHAYNHAYNHAYEHAYHAYHAYNHAYHAYHAYDHAYHAYHAYHAYHAYLHAYEHAYNHAYHAYHAYEHAYDHAYLHAYHAYEHAYHAYDHAYNHAYEHAYHAYHAYLHAYEHAYHAYHAYHAYHAYNHAYHAYHAYEHAYDHAYLHAYHAYEHAYHAYNHAYHAYHAYEHAYDHAYLHAYHAYEHAYHAYHAYEHAYHAYLHAYDHAYEHAYEHAYNHAYNHAYEHAYHAYHAYNHAYHAYHAYDHAYHAYHAYHAYHAYLHAYEHAYNHAYHAYHAYEHAYDHAYLHAYHAYEHAYHAYDHAYNHAYEHAYHAYHAYLHAYEHAYHAYHAYHAYHAYNHAYEHAYEHAYHAYHAYHAYDHAYEHAYHAYHAYHAYHAYNHAYDHAYHAYHAYHAYLHAYHAYHAYHAYHAYHAYHAYLHAYEHAYDHAYEHAYNHAYEHAYHAYEHAYHAYLHAYDHAYEHAYEHAYNHAY'\n",
    "print(pattern.findall(my_string))"
   ]
  },
  {
   "cell_type": "markdown",
   "metadata": {},
   "source": [
    "### Escaping Characters"
   ]
  },
  {
   "cell_type": "markdown",
   "metadata": {},
   "source": [
    "##### \\w - look for any Unicode character<br/>\\W - look for anything that isnt a Unicode character\n",
    "\n",
    "[History on Unicode](http://unicode.org/standard/WhatIsUnicode.html)\n",
    "\n",
    "[More on Unicode Characters](https://en.wikipedia.org/wiki/List_of_Unicode_characters)"
   ]
  },
  {
   "cell_type": "code",
   "execution_count": 112,
   "metadata": {},
   "outputs": [
    {
     "name": "stdout",
     "output_type": "stream",
     "text": [
      "[' ', ' ', ' ', '. ', ' ', ', ', ' ', \"'\", ' ', ' ', ' ', '!']\n",
      "[' ', ' ', ' ', '. ', ' ', ', ', ' ', \"'\", ' ', ' ', ' ', '!']\n"
     ]
    }
   ],
   "source": [
    "pattern_1 = re.compile(r'[\\W]+')\n",
    "pattern_2 = re.compile(r'[\\W]+')\n",
    "my_string = \"This is 1 sentence. With an, exclamation mark's at the end!\"\n",
    "f_1 = pattern_1.findall(my_string)\n",
    "f_2 = pattern_2.findall(my_string)\n",
    "print(f_1)\n",
    "print(f_2)"
   ]
  },
  {
   "cell_type": "markdown",
   "metadata": {},
   "source": [
    "##### \\d - look for any digit 0-9<br/>\\D - look for anything that isnt a digit"
   ]
  },
  {
   "cell_type": "code",
   "execution_count": 115,
   "metadata": {},
   "outputs": [
    {
     "name": "stdout",
     "output_type": "stream",
     "text": [
      "['7th', '27th', '3rd', '1st', '30th', '00th']\n"
     ]
    }
   ],
   "source": [
    "pattern = re.compile(r'\\d{1,2}[a-z]{2}')\n",
    "my_string = \"Today is the 7th, in 20 days it will be the 27th. 3rd,1st,30th for the 3000th time\"\n",
    "found = pattern.findall(my_string)\n",
    "print(found)"
   ]
  },
  {
   "cell_type": "code",
   "execution_count": 118,
   "metadata": {},
   "outputs": [
    {
     "name": "stdout",
     "output_type": "stream",
     "text": [
      "['7th', '27th', '3rd', '1st', '30th', '00th']\n"
     ]
    }
   ],
   "source": [
    "pattern = re.compile(r'\\d{1,2}[t|s|r][a-z]')\n",
    "my_string = \"Today is the 7th, in 20 days it will be the 27th. 3rd,1st,30th for the 3000th time\"\n",
    "found = pattern.findall(my_string)\n",
    "print(found)"
   ]
  },
  {
   "cell_type": "code",
   "execution_count": null,
   "metadata": {},
   "outputs": [],
   "source": [
    "space can be or ` `\" \""
   ]
  },
  {
   "cell_type": "markdown",
   "metadata": {},
   "source": [
    "##### \\s - look for any white space<br/>\\S - look for anything that isnt whitespace"
   ]
  },
  {
   "cell_type": "code",
   "execution_count": 123,
   "metadata": {},
   "outputs": [
    {
     "name": "stdout",
     "output_type": "stream",
     "text": [
      "[' you', ' afraid', ' of', ' the', ' dark']\n",
      "['Are', 'you', 'afraid', 'of', 'the', 'dark']\n"
     ]
    }
   ],
   "source": [
    "pattern_1 = re.compile(r'\\s[a-z]+')\n",
    "pattern_2 = re.compile(r'\\S[a-z]+')\n",
    "\n",
    "my_string = \"Are you afraid of the dark?\"\n",
    "\n",
    "found_space = pattern_1.findall(my_string)\n",
    "found_ns = pattern_2.findall(my_string)\n",
    "print(found_space)\n",
    "print(found_ns)"
   ]
  },
  {
   "cell_type": "markdown",
   "metadata": {},
   "source": [
    "##### \\b - look for boundaries or edges of a word<br/>\\B - look for anything that isnt a boundary"
   ]
  },
  {
   "cell_type": "code",
   "execution_count": 135,
   "metadata": {},
   "outputs": [
    {
     "name": "stdout",
     "output_type": "stream",
     "text": [
      "['TheCodingTemple']\n",
      "[]\n"
     ]
    }
   ],
   "source": [
    "pattern_1 = re.compile(r'\\bTheCodingTemple\\b')\n",
    "pattern_2 = re.compile(r'\\BTheCodingTemple\\B')\n",
    "                       \n",
    "my_string ='lflfkfnjnafjfbkajbfakfknadjknakj:TheCodingTemple:ah;fdmd'\n",
    "found_1 = pattern_1.findall(my_string)\n",
    "found_2 = pattern_2.findall(my_string)\n",
    "print(found_1)\n",
    "print(found_2)"
   ]
  },
  {
   "cell_type": "code",
   "execution_count": 139,
   "metadata": {},
   "outputs": [
    {
     "data": {
      "text/plain": [
       "['Hey guys check', ' out', ' this', ' rad', ' method']"
      ]
     },
     "execution_count": 139,
     "metadata": {},
     "output_type": "execute_result"
    }
   ],
   "source": [
    "my_string = \"Hey guys check, out, this, rad, method\"\n",
    "my_string.split(',')"
   ]
  },
  {
   "cell_type": "markdown",
   "metadata": {},
   "source": [
    "### Grouping"
   ]
  },
  {
   "cell_type": "code",
   "execution_count": 249,
   "metadata": {},
   "outputs": [
    {
     "name": "stdout",
     "output_type": "stream",
     "text": [
      "[('Max', 'Smith'), ('Sam', 'Darnold'), ('LeBron', 'James'), ('Micheal', 'Jordan'), ('Kevin', 'Durant'), ('Patrick', 'McCormick')]\n",
      "('Max', 'Smith')\n",
      "Smith, Max\n",
      "This guys last name is: Smith \n",
      " this guys first name is Max\n",
      "No match found for aaron rodgers\n",
      "This guys last name is: Darnold \n",
      " this guys first name is Sam\n",
      "This guys last name is: James \n",
      " this guys first name is LeBron\n",
      "This guys last name is: Jordan \n",
      " this guys first name is Micheal\n",
      "This guys last name is: Durant \n",
      " this guys first name is Kevin\n",
      "This guys last name is: McCormick \n",
      " this guys first name is Patrick\n"
     ]
    }
   ],
   "source": [
    "my_string = \"Max Smith, aaron rodgers, Sam Darnold, LeBron James, Micheal Jordan, Kevin Durant, Patrick McCormick\"\n",
    "\n",
    "pattern = re.compile(r'([A-Z][a-zA-Z]+) ([A-Z][\\w]+)')\n",
    "found = pattern.findall(my_string)\n",
    "print(found)\n",
    "print(found[0])\n",
    "print(found[0][1] + \", \" + found[0][0])\n",
    "\n",
    "for name in my_string.split(', '):\n",
    "    match=pattern.search(name)\n",
    "    if match:\n",
    "#         print(match.groups())\n",
    "        print(f\"This guys last name is: {match.groups()[1]} \\n this guys first name is {match.groups()[0]}\")\n",
    "    else:\n",
    "        print(f\"No match found for {name}\")\n",
    "        "
   ]
  },
  {
   "cell_type": "code",
   "execution_count": null,
   "metadata": {},
   "outputs": [],
   "source": []
  },
  {
   "cell_type": "markdown",
   "metadata": {},
   "source": [
    "##### In-class Exercise 2:\n",
    "\n",
    "Write a function using regular expressions to find the domain name in the given email addresses (and return None for the invalid email addresses)<br><b>HINT: Use '|' for either or</b>"
   ]
  },
  {
   "cell_type": "code",
   "execution_count": 164,
   "metadata": {},
   "outputs": [
    {
     "ename": "NameError",
     "evalue": "name 'validate_email' is not defined",
     "output_type": "error",
     "traceback": [
      "\u001b[0;31m---------------------------------------------------------------------------\u001b[0m",
      "\u001b[0;31mNameError\u001b[0m                                 Traceback (most recent call last)",
      "Input \u001b[0;32mIn [164]\u001b[0m, in \u001b[0;36m<cell line: 18>\u001b[0;34m()\u001b[0m\n\u001b[1;32m     17\u001b[0m         \u001b[38;5;28;01mreturn\u001b[39;00m none\n\u001b[1;32m     18\u001b[0m \u001b[38;5;28;01mfor\u001b[39;00m email \u001b[38;5;129;01min\u001b[39;00m my_emails:\n\u001b[0;32m---> 19\u001b[0m     \u001b[38;5;28mprint\u001b[39m(\u001b[43mvalidate_email\u001b[49m(email))\n\u001b[1;32m     21\u001b[0m email_pattern \u001b[38;5;241m=\u001b[39m re\u001b[38;5;241m.\u001b[39mcompile(\u001b[38;5;124mr\u001b[39m\u001b[38;5;124m'\u001b[39m\u001b[38;5;124m[\u001b[39m\u001b[38;5;124m\\\u001b[39m\u001b[38;5;124mw\u001b[39m\u001b[38;5;124m\\\u001b[39m\u001b[38;5;124md]+@[a-z|\u001b[39m\u001b[38;5;124m\\\u001b[39m\u001b[38;5;124md]+\u001b[39m\u001b[38;5;124m\\\u001b[39m\u001b[38;5;124m.[a-z]\u001b[39m\u001b[38;5;124m'\u001b[39m)\n\u001b[1;32m     23\u001b[0m \u001b[38;5;28;01mfor\u001b[39;00m email \u001b[38;5;129;01min\u001b[39;00m my_emails:\n",
      "\u001b[0;31mNameError\u001b[0m: name 'validate_email' is not defined"
     ]
    }
   ],
   "source": [
    "my_emails = [\"jordanw@codingtemple.orgcom\", \"pocohontas1776@gmail.com\", \"helloworld@aol..com\",\n",
    "             \"yourfavoriteband@g6.org\", \"@codingtemple.com\"]\n",
    "\n",
    "# You can also use the $ at the end of your compile expression -- this stops the search\n",
    "\n",
    "#Expected output:\n",
    "#jordanw@codingtemple.orgcom\n",
    "#pocohontas1776@gmail.com\n",
    "#None\n",
    "#yourfavoriteband@g6.org\n",
    "#None\n",
    "def validate(email):\n",
    "    pattern = re.compile(r\"([A-Za-Z0-9]+)@([A-Za-z0-9]+)\\.([org|com])\")\n",
    "    if pattern.match(email):\n",
    "        return email\n",
    "    else:\n",
    "        return none\n",
    "for email in my_emails:\n",
    "    print(validate_email(email))\n",
    "\n",
    "email_pattern = re.compile(r'[\\w\\d]+@[a-z|\\d]+\\.[a-z]')\n",
    "\n",
    "for email in my_emails:\n",
    "    is_email = email_pattern.findall(email)\n",
    "    if is_email:\n",
    "        print(email)\n",
    "    else:\n",
    "        print('none')"
   ]
  },
  {
   "cell_type": "markdown",
   "metadata": {},
   "source": [
    "### Opening a File <br>\n",
    "<p>Python gives us a couple ways to import files, below are the two used most often.</p>"
   ]
  },
  {
   "cell_type": "markdown",
   "metadata": {},
   "source": [
    "##### open()"
   ]
  },
  {
   "cell_type": "code",
   "execution_count": 167,
   "metadata": {},
   "outputs": [
    {
     "name": "stdout",
     "output_type": "stream",
     "text": [
      "Hawkins, Derek\tderek@codingtemple.com\t(555) 555-5555\tTeacher, Coding Temple\t@derekhawkins\n",
      "Zhai, Mo\tmozhai@codingtemple.com\t(555) 555-5554\tTeacher, Coding Temple\n",
      "Johnson, Joe\tjoejohnson@codingtemple.com\t\tJohson, Joe\n",
      "Osterberg, Sven-Erik\tgovernor@norrbotten.co.se\t\tGovernor, Norrbotten\t@sverik\n",
      ", Tim\ttim@killerrabbit.com\t\tEnchanter, Killer Rabbit Cave\n",
      "Butz, Ryan\tryanb@codingtemple.com\t(555) 555-5543\tCEO, Coding Temple\t@ryanbutz\n",
      "Doctor, The\tdoctor+companion@tardis.co.uk\t\tTime Lord, Gallifrey\n",
      "Exampleson, Example\tme@example.com\t555-555-5552\tExample, Example Co.\t@example\n",
      "Pael, Ripal\tripalp@codingtemple.com\t(555) 555-5553\tTeacher, Coding Temple\t@ripalp\n",
      "Vader, Darth\tdarth-vader@empire.gov\t(555) 555-4444\tSith Lord, Galactic Empire\t@darthvader\n",
      "Fernandez de la Vega Sanz, Maria Teresa\tmtfvs@spain.gov\t\tFirst Deputy Prime Minister, Spanish Gov\n"
     ]
    },
    {
     "data": {
      "text/plain": [
       "str"
      ]
     },
     "execution_count": 167,
     "metadata": {},
     "output_type": "execute_result"
    }
   ],
   "source": [
    "file = open('./folder/names.txt')\n",
    "data = file.read()\n",
    "print(data)\n",
    "file.close()\n",
    "type(data)"
   ]
  },
  {
   "cell_type": "markdown",
   "metadata": {},
   "source": [
    "##### with open()"
   ]
  },
  {
   "cell_type": "code",
   "execution_count": 168,
   "metadata": {},
   "outputs": [
    {
     "name": "stdout",
     "output_type": "stream",
     "text": [
      "Hawkins, Derek\tderek@codingtemple.com\t(555) 555-5555\tTeacher, Coding Temple\t@derekhawkins\n",
      "Zhai, Mo\tmozhai@codingtemple.com\t(555) 555-5554\tTeacher, Coding Temple\n",
      "Johnson, Joe\tjoejohnson@codingtemple.com\t\tJohson, Joe\n",
      "Osterberg, Sven-Erik\tgovernor@norrbotten.co.se\t\tGovernor, Norrbotten\t@sverik\n",
      ", Tim\ttim@killerrabbit.com\t\tEnchanter, Killer Rabbit Cave\n",
      "Butz, Ryan\tryanb@codingtemple.com\t(555) 555-5543\tCEO, Coding Temple\t@ryanbutz\n",
      "Doctor, The\tdoctor+companion@tardis.co.uk\t\tTime Lord, Gallifrey\n",
      "Exampleson, Example\tme@example.com\t555-555-5552\tExample, Example Co.\t@example\n",
      "Pael, Ripal\tripalp@codingtemple.com\t(555) 555-5553\tTeacher, Coding Temple\t@ripalp\n",
      "Vader, Darth\tdarth-vader@empire.gov\t(555) 555-4444\tSith Lord, Galactic Empire\t@darthvader\n",
      "Fernandez de la Vega Sanz, Maria Teresa\tmtfvs@spain.gov\t\tFirst Deputy Prime Minister, Spanish Gov\n",
      "<class 'str'>\n"
     ]
    }
   ],
   "source": [
    "with open('./folder/names.txt') as file:\n",
    "    data = file.read()\n",
    "print(data)\n",
    "print(type(data))"
   ]
  },
  {
   "cell_type": "markdown",
   "metadata": {},
   "source": [
    "##### re.match()"
   ]
  },
  {
   "cell_type": "code",
   "execution_count": 175,
   "metadata": {},
   "outputs": [
    {
     "name": "stdout",
     "output_type": "stream",
     "text": [
      "None\n"
     ]
    },
    {
     "data": {
      "text/plain": [
       "'Hawkins, Derek'"
      ]
     },
     "execution_count": 175,
     "metadata": {},
     "output_type": "execute_result"
    }
   ],
   "source": [
    "print(re.match(r\"Butz, Ryan\", data))\n",
    "data[0:14]"
   ]
  },
  {
   "cell_type": "markdown",
   "metadata": {},
   "source": [
    "##### re.search()"
   ]
  },
  {
   "cell_type": "code",
   "execution_count": 171,
   "metadata": {},
   "outputs": [
    {
     "name": "stdout",
     "output_type": "stream",
     "text": [
      "<re.Match object; span=(582, 605), match='ripalp@codingtemple.com'>\n"
     ]
    },
    {
     "data": {
      "text/plain": [
       "'ripalp@codingtemple.com'"
      ]
     },
     "execution_count": 171,
     "metadata": {},
     "output_type": "execute_result"
    }
   ],
   "source": [
    "print(re.search(r'ripalp@codingtemple.com', data))\n",
    "data[582:605]"
   ]
  },
  {
   "cell_type": "markdown",
   "metadata": {},
   "source": [
    "##### Store the String to a Variable"
   ]
  },
  {
   "cell_type": "code",
   "execution_count": 173,
   "metadata": {},
   "outputs": [
    {
     "name": "stdout",
     "output_type": "stream",
     "text": [
      "What would you like to search for? @ryanbutz\n",
      "I found y our data ['@ryanbutz']\n"
     ]
    }
   ],
   "source": [
    "answer = input (\"What would you like to search for? \")\n",
    "found = re.findall(answer,data)\n",
    "if found:\n",
    "    print(f\"I found y our data {found}\")\n",
    "else:\n",
    "    print(\"it's a no from me boss\")"
   ]
  },
  {
   "cell_type": "code",
   "execution_count": 174,
   "metadata": {},
   "outputs": [
    {
     "name": "stdout",
     "output_type": "stream",
     "text": [
      "this is line 1 \n",
      "this is line 2 \r",
      "i wrote over line2\n"
     ]
    }
   ],
   "source": [
    "print(\"this is line 1 \\nthis is line 2 \\ri wrote over line2\")"
   ]
  },
  {
   "cell_type": "markdown",
   "metadata": {},
   "source": [
    "### In-Class Exercise #3 <br>\n",
    "<p>Print each persons name and twitter handle, using groups, should look like:</p>\n",
    "<p>==============<br>\n",
    "   Full Name / Twitter<br>\n",
    "   ==============</p>\n",
    "Derek Hawkins / @derekhawkins\n",
    "\n",
    " Erik Sven-Osterberg / @sverik\n",
    "\n",
    " Ryan Butz / @ryanbutz\n",
    "\n",
    " Example Exampleson / @example\n",
    "\n",
    " Ripal Pael / @ripalp\n",
    "\n",
    " Darth Vader / @darthvader"
   ]
  },
  {
   "cell_type": "code",
   "execution_count": 193,
   "metadata": {},
   "outputs": [],
   "source": [
    "### My failure = [a-zA-Z]+[,]+[\\W]+[a-zA-Z]*|[\\W][@][a-z]+\n",
    "\n",
    "## Was stuck trying to figure out what worked in reg expressions 101"
   ]
  },
  {
   "cell_type": "code",
   "execution_count": 191,
   "metadata": {
    "scrolled": true
   },
   "outputs": [
    {
     "name": "stdout",
     "output_type": "stream",
     "text": [
      "\n",
      " ===================\n",
      " Full Name / Twitter\n",
      " ===================\n",
      "\n",
      " Derek Hawkins / @derekhawkins\n",
      "\n",
      " Norrbotten Governor / @sverik\n",
      "\n",
      " Ryan Butz / @ryanbutz\n",
      "\n",
      " Example Exampleson / @example\n",
      "\n",
      " Ripal Pael / @ripalp\n",
      "\n",
      " Darth Vader / @darthvader\n",
      "\n"
     ]
    }
   ],
   "source": [
    "print('''\n",
    " ===================\n",
    " Full Name / Twitter\n",
    " ===================\n",
    "''')   \n",
    "new_data = data.split('\\n')\n",
    "for line in new_data:\n",
    "    twitter=re.findall('[\\t](@\\w+)', line)\n",
    "    if(twitter):\n",
    "        name=re.findall('(\\w+[-\\w+]?),(\\s\\w+)[\\t][^,]', line)\n",
    "        f_name=name[0][1]\n",
    "        l_name=name[0][0]\n",
    "        print(f'{f_name} {l_name} / {twitter[0]}\\n')"
   ]
  },
  {
   "cell_type": "code",
   "execution_count": 222,
   "metadata": {},
   "outputs": [
    {
     "name": "stdout",
     "output_type": "stream",
     "text": [
      "\n",
      " ===================\n",
      " Full Name / Twitter\n",
      " ===================\n",
      "\n"
     ]
    },
    {
     "ename": "IndexError",
     "evalue": "no such group",
     "output_type": "error",
     "traceback": [
      "\u001b[0;31m---------------------------------------------------------------------------\u001b[0m",
      "\u001b[0;31mIndexError\u001b[0m                                Traceback (most recent call last)",
      "Input \u001b[0;32mIn [222]\u001b[0m, in \u001b[0;36m<cell line: 11>\u001b[0;34m()\u001b[0m\n\u001b[1;32m     12\u001b[0m match \u001b[38;5;241m=\u001b[39m pattern\u001b[38;5;241m.\u001b[39msearch(person)\n\u001b[1;32m     14\u001b[0m \u001b[38;5;28;01mif\u001b[39;00m match:\n\u001b[0;32m---> 15\u001b[0m     \u001b[38;5;28mprint\u001b[39m(\u001b[38;5;124m'\u001b[39m\u001b[38;5;130;01m\\n\u001b[39;00m\u001b[38;5;124m'\u001b[39m, \u001b[38;5;124mf\u001b[39m\u001b[38;5;124m\"\u001b[39m\u001b[38;5;132;01m{\u001b[39;00mmatch\u001b[38;5;241m.\u001b[39mgroup(\u001b[38;5;241m3\u001b[39m)\u001b[38;5;132;01m}\u001b[39;00m\u001b[38;5;124m \u001b[39m\u001b[38;5;132;01m{\u001b[39;00mmatch\u001b[38;5;241m.\u001b[39mgroup(\u001b[38;5;241m2\u001b[39m)\u001b[38;5;132;01m}\u001b[39;00m\u001b[38;5;132;01m{\u001b[39;00mmatch\u001b[38;5;241m.\u001b[39mgroup(\u001b[38;5;241m1\u001b[39m)\u001b[38;5;132;01m}\u001b[39;00m\u001b[38;5;124m / \u001b[39m\u001b[38;5;132;01m{\u001b[39;00mmatch\u001b[38;5;241m.\u001b[39mgroup(\u001b[38;5;241m4\u001b[39m)\u001b[38;5;132;01m}\u001b[39;00m\u001b[38;5;124m\"\u001b[39m)\n",
      "\u001b[0;31mIndexError\u001b[0m: no such group"
     ]
    }
   ],
   "source": [
    "print('''\n",
    " ===================\n",
    " Full Name / Twitter\n",
    " ===================\n",
    "''')  \n",
    "with open(\"./folder/names.txt\") as f:\n",
    "    data= f.readlines()\n",
    "\n",
    "pattern = re.compile(\"([A-Za-z]+),\\\\s*([A-Za-z]+)\\\\s*([A-Za-z]+)\")\n",
    "    \n",
    "for person in data:\n",
    "    match = pattern.search(person)\n",
    "    \n",
    "    if match:\n",
    "        print('\\n', f\"{match.group(3)} {match.group(2)}{match.group(1)} / {match.group(4)}\")"
   ]
  },
  {
   "cell_type": "markdown",
   "metadata": {},
   "source": [
    "### Regex project\n",
    "\n",
    "Use python to read the file regex_test.txt and print the last name on each line using regular expressions and groups (return None for names with no first and last name, or names that aren't properly capitalized)\n",
    "##### Hint: use with open() and readlines()"
   ]
  },
  {
   "cell_type": "code",
   "execution_count": null,
   "metadata": {},
   "outputs": [],
   "source": [
    "\"\"\"\n",
    "Expected Output\n",
    "Abraham Lincoln\n",
    "Andrew P Garfield\n",
    "Connor Milliken\n",
    "Jordan Alexander Williams\n",
    "None\n",
    "None\n",
    "\"\"\""
   ]
  },
  {
   "cell_type": "code",
   "execution_count": 253,
   "metadata": {},
   "outputs": [
    {
     "name": "stdout",
     "output_type": "stream",
     "text": [
      "\n",
      " Abraham None  Lincoln\n",
      "\n",
      " Andrew  P  Garfield\n",
      "\n",
      " Connor None  Milliken\n",
      "\n",
      " Jordan  Alexander  Williams\n",
      "None\n",
      "None\n"
     ]
    }
   ],
   "source": [
    "with open('./folder/regex-test.txt') as file:\n",
    "    data = file.readlines()\n",
    "pattern= re.compile(r'([A-Z][a-zA-Z]+)([ |A-Z][\\w]*)?([ ][A-Z][\\w]+)')\n",
    "\n",
    "for person in data:\n",
    "    match = pattern.search(person)\n",
    "    if match:\n",
    "        print(\"\\n\", f'{match.group(1)} {match.group(2)} {\"\" if match.group(3) == None else match.group(3)}')\n",
    "    else:\n",
    "        print(\"None\")"
   ]
  },
  {
   "cell_type": "code",
   "execution_count": 248,
   "metadata": {},
   "outputs": [
    {
     "name": "stdout",
     "output_type": "stream",
     "text": [
      "['Abraham', 'Lincoln', 'Andrew', 'P', 'Garfield', 'Connor', 'Milliken', 'Jordan', 'Alexander', 'Williams', 'Madonna', 'programming', 'is', 'cool']\n"
     ]
    }
   ],
   "source": [
    "pattern = re.compile(r'[a-zA-Z]+')\n",
    "\n",
    "\n",
    "\n",
    "print(pattern.findall(alpha))\n",
    "\n",
    "\n",
    "\n"
   ]
  },
  {
   "cell_type": "code",
   "execution_count": null,
   "metadata": {},
   "outputs": [],
   "source": [
    "([A-Z][a-zA-Z]+)([ |A-Z][a-zA-z]*)?([ ][A-Z][\\w]+)"
   ]
  }
 ],
 "metadata": {
  "kernelspec": {
   "display_name": "Python 3 (ipykernel)",
   "language": "python",
   "name": "python3"
  },
  "language_info": {
   "codemirror_mode": {
    "name": "ipython",
    "version": 3
   },
   "file_extension": ".py",
   "mimetype": "text/x-python",
   "name": "python",
   "nbconvert_exporter": "python",
   "pygments_lexer": "ipython3",
   "version": "3.9.12"
  }
 },
 "nbformat": 4,
 "nbformat_minor": 2
}
